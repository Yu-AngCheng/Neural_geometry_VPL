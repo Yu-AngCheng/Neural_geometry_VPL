{
 "cells": [
  {
   "cell_type": "code",
   "execution_count": 11,
   "id": "69530bf9",
   "metadata": {},
   "outputs": [],
   "source": [
    "import matplotlib as mpl\n",
    "import numpy as np\n",
    "import matplotlib.pyplot as plt\n",
    "import pandas as pd\n",
    "import pickle\n",
    "from scipy.stats import sem\n",
    "from matplotlib import ticker\n",
    "import scipy.io as io\n",
    "from scipy.stats import ttest_rel\n",
    "from RZutilpy.figure import plot, bar, colorpalettable, default_img_set\n",
    "default_img_set()"
   ]
  },
  {
   "cell_type": "code",
   "execution_count": 12,
   "id": "622b00e6",
   "metadata": {},
   "outputs": [],
   "source": [
    "with open('../Results/Metrics_All_Pre_Post.pkl', 'rb') as f:\n",
    "    Metrics = pickle.load(f)\n",
    "with open('../Results/Decoding_supp.pkl', 'rb') as f:\n",
    "    Decoding = pickle.load(f)"
   ]
  },
  {
   "cell_type": "code",
   "execution_count": 13,
   "id": "4d3d83bc",
   "metadata": {
    "tags": []
   },
   "outputs": [],
   "source": [
    "Decoding_Pre = Metrics[\"Decoding_tp1\"].mean(axis=(1,5))\n",
    "Decoding_Post = Metrics[\"Decoding_tp2\"].mean(axis=(1,5))\n",
    "LFI_Pre = Metrics[\"LFI_tp1\"].mean(axis=(1,5))\n",
    "LFI_Post = Metrics[\"LFI_tp2\"].mean(axis=(1,5))\n",
    "decoding_acc_mean = np.vstack((Decoding_Pre.mean(axis=(0, 2, 3)),Decoding_Post.mean(axis=(0, 2, 3)))).T\n",
    "decoding_acc_se = np.vstack((sem(Decoding_Pre.mean(axis=(2,3)),axis=0),sem(Decoding_Post.mean(axis=(2,3)),axis=0))).T\n",
    "LFI_mean = np.vstack((LFI_Pre.mean(axis=(0, 2, 3)),LFI_Post.mean(axis=(0, 2, 3)))).T\n",
    "LFI_se = np.vstack((sem(LFI_Pre.mean(axis=(2,3)),axis=0),sem(LFI_Post.mean(axis=(2,3)),axis=0))).T"
   ]
  },
  {
   "cell_type": "code",
   "execution_count": 14,
   "id": "7e0872c2",
   "metadata": {},
   "outputs": [],
   "source": [
    "ryzcolor = colorpalettable('ryz1')\n",
    "C0, C0_alpha=np.array(ryzcolor(0)),np.array(ryzcolor(0))\n",
    "C1, C1_alpha=np.array(ryzcolor(1)),np.array(ryzcolor(1))\n",
    "C0_alpha[-1]=0.3\n",
    "C1_alpha[-1]=0.3"
   ]
  },
  {
   "cell_type": "code",
   "execution_count": 15,
   "id": "8caa335f",
   "metadata": {},
   "outputs": [
    {
     "name": "stdout",
     "output_type": "stream",
     "text": [
      "TtestResult(statistic=array([ 7.91625945, -1.793642  , -3.59533038, -6.02599489, -5.62158426]), pvalue=array([0.99789875, 0.0853821 , 0.01844187, 0.00458027, 0.00556517]), df=array([3, 3, 3, 3, 3]))\n",
      "TtestResult(statistic=array([ 3.93398591, -1.84614491, -3.46916291, -5.64120133, -4.73033796]), pvalue=array([0.98537367, 0.08102219, 0.02018543, 0.00551131, 0.00895281]), df=array([3, 3, 3, 3, 3]))\n"
     ]
    }
   ],
   "source": [
    "print(ttest_rel(Decoding_Pre.mean(axis=(2,3)), Decoding_Post.mean(axis=(2,3)), axis=0, alternative='less'))\n",
    "print(ttest_rel(np.log(LFI_Pre).mean(axis=(2,3)), np.log(LFI_Post).mean(axis=(2,3)), axis=0,alternative='less'))"
   ]
  },
  {
   "cell_type": "code",
   "execution_count": 17,
   "id": "82fbfc0a",
   "metadata": {},
   "outputs": [
    {
     "name": "stdout",
     "output_type": "stream",
     "text": [
      "2\n",
      "2\n"
     ]
    },
    {
     "data": {
      "image/png": "[encoded data removed]",
      "text/plain": [
       "<Figure size 600x300 with 2 Axes>"
      ]
     },
     "metadata": {},
     "output_type": "display_data"
    }
   ],
   "source": [
    "fig, ax = plt.subplots(1, 2, figsize=(6, 3))\n",
    "plt.sca(ax[0])\n",
    "bar(np.arange(5), decoding_acc_mean, yerr=decoding_acc_se, width=0.35, bargap=0.06, ecolor='k',color=[C0_alpha, C1_alpha], edgecolor=[C0, C1])\n",
    "ax[0].set_ylim([0.4,1])\n",
    "ax[0].set_xticks([0,1,2,3,4])\n",
    "ax[0].set_xlabel(\"Layer\")\n",
    "ax[0].set_xticklabels([\"1\",\"2\",\"3\",\"4\",\"5\"])\n",
    "ax[0].set_ylabel(\"Decoding accuracy\")\n",
    "\n",
    "plt.sca(ax[1])\n",
    "bar(np.arange(5), LFI_mean, yerr=LFI_se, ecolor='k',width=0.35,bargap=0.06, color=[C0_alpha, C1_alpha], edgecolor=[C0, C1])\n",
    "ax[1].set_xlabel(\"Layer\")\n",
    "ax[1].set_ylabel(\"aLFI\")\n",
    "ax[1].set_xticks([0,1,2,3,4])\n",
    "ax[1].set_xticklabels([\"1\",\"2\",\"3\",\"4\",\"5\"])\n",
    "ax[1].set_yscale('log')\n",
    "ax[1].set_yticks([1e1, 1e2,1e3])\n",
    "ax[1].minorticks_off()\n",
    "# plt.savefig('Fig2_2.pdf')"
   ]
  }
 ],
 "metadata": {
  "kernelspec": {
   "display_name": "Python 3.9.12 ('base')",
   "language": "python",
   "name": "python3"
  },
  "language_info": {
   "codemirror_mode": {
    "name": "ipython",
    "version": 3
   },
   "file_extension": ".py",
   "mimetype": "text/x-python",
   "name": "python",
   "nbconvert_exporter": "python",
   "pygments_lexer": "ipython3",
   "version": "3.11.7"
  },
  "vscode": {
   "interpreter": {
    "hash": "ce6fd292f26e8310bd683d464ca8d366972b74bf05530f6c22e5d90e48b21c49"
   }
  }
 },
 "nbformat": 4,
 "nbformat_minor": 5
}
